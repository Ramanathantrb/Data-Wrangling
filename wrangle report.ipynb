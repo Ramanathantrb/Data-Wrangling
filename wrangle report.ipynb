{
 "cells": [
  {
   "cell_type": "markdown",
   "metadata": {},
   "source": [
    "## Reporting: wragle_report\n"
   ]
  },
  {
   "cell_type": "markdown",
   "metadata": {},
   "source": [
    "## Data Wrangling Report\n",
    "### Introduction\n",
    "This report outlines the data wrangling efforts on the Twitter data for the WeRateDogs project. The data was gathered from multiple sources, including the WeRateDogs Twitter archive, a TSV file containing image predictions, and data obtained via the Twitter API.\n",
    "\n",
    "### Data Gathering\n",
    "The WeRateDogs Twitter archive was read from the 'twitter-archive-enhanced.csv' file.\n",
    "\n",
    "Image predictions were downloaded programmatically from a URL and saved as 'image-predictions.tsv'.\n",
    "\n",
    "Data was queried from Twitter's API to retrieve retweet counts and favorite counts for each tweet using Tweepy.\n",
    "### Data Assessment\n",
    "#### Quality Issues\n",
    "##### Twitter Archive (wrd) Dataset\n",
    "\n",
    "The 'timestamp' and 'retweeted_status_timestamp' columns have object data types instead of datetime.\n",
    "\n",
    "Need to filter out retweets and replies\n",
    "\n",
    "In several columns, null objects are non-null (i.e., 'None' should be converted to NaN).\n",
    "\n",
    "'tweet_id', 'in_reply_to_status_id', 'in_reply_to_user_id', 'retweeted_status_id', and 'retweeted_status_user_id' should be object data types instead of float.\n",
    "\n",
    "There are invalid values in the 'rating_numerator' and 'rating_denominator' columns.\n",
    "\n",
    "Some dog names in the 'name' column are invalid, such as 'a', 'an', and 'o'.\n",
    "\n",
    "Unnecessary columns need to be dropped in the Twitter archive (wrd) dataset.\n",
    "##### Image Dataset\n",
    "\n",
    "The 'tweet_id' column should be of object data type.\n",
    "\n",
    "Column names like 'p1', 'p2', 'p3', 'p1_conf', and 'p1_dog' are not descriptive.\n",
    "#### Tidiness Issues\n",
    "\n",
    "\n",
    "The datasets need to be combined.\n",
    "\n",
    "The dataset has four different columns ('doggo', 'floofer', 'pupper', and 'puppo') to indicate the dog stage, which can be simplified into one.\n",
    "### Data Cleaning\n",
    "In the data cleaning process, the following steps were taken:\n",
    "\n",
    "Removed one-letter names for dogs, making them NaN.\n",
    "\n",
    "Converted the 'timestamp' column to a datetime data type.\n",
    "\n",
    "Simplified the dog stages by merging them into one column and dropping the others.\n",
    "\n",
    "Replaced 'None' values with NaN for the 'stage' and 'name' columns.\n",
    "\n",
    "Normalized the 'rating_numerator' and 'rating_denominator' columns.\n",
    "\n",
    "Retweets and replies were filtered out\n",
    "\n",
    "Dropped unnecessary columns in the Twitter archive (wrd) dataset.\n",
    "\n",
    "Merged the cleaned datasets together.\n",
    "\n",
    "Dropped unwanted columns.\n",
    "\n",
    "Renamed columns to be more descriptive.\n",
    "\n",
    "Converted the 'tweet_id' data type to string from int64.\n",
    "### Conclusion\n",
    "The data wrangling process involved gathering data from multiple sources, assessing the data for quality and tidiness issues, and cleaning the data to create a high-quality and tidy master dataset. The resulting dataset, named 'twitter_archive_master.csv,' is ready for further analysis and visualization."
   ]
  },
  {
   "cell_type": "code",
   "execution_count": null,
   "metadata": {},
   "outputs": [],
   "source": []
  },
  {
   "cell_type": "code",
   "execution_count": null,
   "metadata": {},
   "outputs": [],
   "source": []
  }
 ],
 "metadata": {
  "kernelspec": {
   "display_name": "Python 3",
   "language": "python",
   "name": "python3"
  },
  "language_info": {
   "codemirror_mode": {
    "name": "ipython",
    "version": 3
   },
   "file_extension": ".py",
   "mimetype": "text/x-python",
   "name": "python",
   "nbconvert_exporter": "python",
   "pygments_lexer": "ipython3",
   "version": "3.6.3"
  }
 },
 "nbformat": 4,
 "nbformat_minor": 2
}
